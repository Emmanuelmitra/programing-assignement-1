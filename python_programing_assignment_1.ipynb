{
  "nbformat": 4,
  "nbformat_minor": 0,
  "metadata": {
    "colab": {
      "provenance": []
    },
    "kernelspec": {
      "name": "python3",
      "display_name": "Python 3"
    },
    "language_info": {
      "name": "python"
    }
  },
  "cells": [
    {
      "cell_type": "code",
      "source": [
        "# python programing assignment-1 by Emmanuel"
      ],
      "metadata": {
        "id": "LTBfPwWeJUtc"
      },
      "execution_count": null,
      "outputs": []
    },
    {
      "cell_type": "markdown",
      "source": [
        "1. Write a Python program to print &quot;Hello Python&quot;?\n",
        "2. Write a Python program to do arithmetical operations addition and division.?\n",
        "3. Write a Python program to find the area of a triangle?\n",
        "4. Write a Python program to swap two variables?\n",
        "5. Write a Python program to generate a random number?"
      ],
      "metadata": {
        "id": "J7lamvh2H9X3"
      }
    },
    {
      "cell_type": "code",
      "source": [
        "# 1\n",
        "print('hello ptyhon')"
      ],
      "metadata": {
        "colab": {
          "base_uri": "https://localhost:8080/"
        },
        "id": "v-sNPHrpH_MM",
        "outputId": "1570d743-fadd-4f34-c125-6c8525debeb4"
      },
      "execution_count": 8,
      "outputs": [
        {
          "output_type": "stream",
          "name": "stdout",
          "text": [
            "hello ptyhon\n"
          ]
        }
      ]
    },
    {
      "cell_type": "code",
      "source": [
        "# 2\n",
        "a=1\n",
        "b=2\n",
        "print(a+b)\n",
        "print(a/b)"
      ],
      "metadata": {
        "colab": {
          "base_uri": "https://localhost:8080/"
        },
        "id": "TJFFEyj-ICfY",
        "outputId": "5f5c971b-ae5a-4c4e-9000-f23989fe291e"
      },
      "execution_count": 2,
      "outputs": [
        {
          "output_type": "stream",
          "name": "stdout",
          "text": [
            "3\n",
            "0.5\n"
          ]
        }
      ]
    },
    {
      "cell_type": "code",
      "source": [
        "# 3\n",
        "x=float(input('enter value of first side '))\n",
        "y=float(input('enter value of second side '))\n",
        "z=float(input('enter values of third side '))\n",
        "\n",
        "s=(x+y+z)/2\n",
        "\n",
        "area=(s*(s-x)*(s-y)*(s-z))**0.5\n",
        "print(area)"
      ],
      "metadata": {
        "colab": {
          "base_uri": "https://localhost:8080/"
        },
        "id": "dsOqE7ZvIHQt",
        "outputId": "53a2451b-c018-40a2-c7ea-f615a869bc22"
      },
      "execution_count": 7,
      "outputs": [
        {
          "output_type": "stream",
          "name": "stdout",
          "text": [
            "enter value of first side 4\n",
            "enter value of second side 5\n",
            "enter values of third side 6\n",
            "9.921567416492215\n"
          ]
        }
      ]
    },
    {
      "cell_type": "code",
      "source": [
        "# 4\n",
        "a=2\n",
        "b=3\n",
        "a,b=b,a\n",
        "print(a,b)"
      ],
      "metadata": {
        "colab": {
          "base_uri": "https://localhost:8080/"
        },
        "id": "ubAUkDbwI2Xp",
        "outputId": "9a77feac-57b0-4812-fa1a-c80795585d54"
      },
      "execution_count": 9,
      "outputs": [
        {
          "output_type": "stream",
          "name": "stdout",
          "text": [
            "3 2\n"
          ]
        }
      ]
    },
    {
      "cell_type": "code",
      "source": [
        "# 5\n",
        "import random\n",
        "print(random.randint(1,100))"
      ],
      "metadata": {
        "colab": {
          "base_uri": "https://localhost:8080/"
        },
        "id": "GOXpSCxsJlzh",
        "outputId": "6cde91f2-6de7-41a2-9083-1306cc03b1ee"
      },
      "execution_count": 12,
      "outputs": [
        {
          "output_type": "stream",
          "name": "stdout",
          "text": [
            "49\n"
          ]
        }
      ]
    },
    {
      "cell_type": "code",
      "source": [],
      "metadata": {
        "id": "wTJHqtoPJut1"
      },
      "execution_count": null,
      "outputs": []
    }
  ]
}